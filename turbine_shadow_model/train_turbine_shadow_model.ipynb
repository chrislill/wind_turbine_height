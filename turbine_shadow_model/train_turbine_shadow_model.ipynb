{
 "cells": [
  {
   "cell_type": "code",
   "execution_count": null,
   "metadata": {
    "collapsed": true
   },
   "outputs": [],
   "source": [
    "%%time\n",
    "name = \"v003_1280px\"\n",
    "code_path = \"%USERPROFILE%/Code/yolov7\"\n",
    "%cd \"~/Code/wind_turbine_height\"\n",
    "\n",
    "!wandb disabled\n",
    "!python $code_path/train.py --img-size 1280 --cfg $code_path/cfg/training/yolov7.yaml --hyp $code_path/data/hyp.scratch.custom.yaml --batch 1 --epochs 100 --data %USERPROFILE%/Code/wind_turbine_height/data/experiments/$name/data.yaml --weights $code_path/weights/yolov7_training.pt --workers 24 --name $name"
   ]
  },
  {
   "cell_type": "code",
   "execution_count": null,
   "outputs": [],
   "source": [],
   "metadata": {
    "collapsed": false,
    "pycharm": {
     "is_executing": true
    }
   }
  },
  {
   "cell_type": "code",
   "execution_count": null,
   "outputs": [],
   "source": [],
   "metadata": {
    "collapsed": false
   }
  }
 ],
 "metadata": {
  "kernelspec": {
   "display_name": "Python 3",
   "language": "python",
   "name": "python3"
  },
  "language_info": {
   "codemirror_mode": {
    "name": "ipython",
    "version": 2
   },
   "file_extension": ".py",
   "mimetype": "text/x-python",
   "name": "python",
   "nbconvert_exporter": "python",
   "pygments_lexer": "ipython2",
   "version": "2.7.6"
  }
 },
 "nbformat": 4,
 "nbformat_minor": 0
}
