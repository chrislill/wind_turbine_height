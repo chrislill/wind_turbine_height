{
 "cells": [
  {
   "cell_type": "code",
   "execution_count": 62,
   "metadata": {
    "collapsed": true
   },
   "outputs": [
    {
     "name": "stdout",
     "output_type": "stream",
     "text": [
      "C:\\Users\\chris\\Code\\wind_turbine_height\\data\\experiments\\v002_640px\n",
      "W&B disabled.\n"
     ]
    }
   ],
   "source": [
    "data_path = \"%USERPROFILE%/Code/wind_turbine_height/data/experiments/v002_640px\"\n",
    "code_path = \"%USERPROFILE%/Code/yolov7\"\n",
    "tilda_path = data_path.replace(\"%USERPROFILE%\", \"~\")\n",
    "%cd $tilda_path\n",
    "\n",
    "!wandb disabled\n",
    "!python $code_path/train.py --img-size 640 --cfg $code_path/cfg/training/yolov7.yaml --hyp $code_path/data/hyp.scratch.custom.yaml --batch 8 --epochs 100 --data $data_path/data.yaml --weights $code_path/weights/yolov7_training.pt --workers 24 --name v001_640px"
   ]
  },
  {
   "cell_type": "code",
   "execution_count": null,
   "outputs": [],
   "source": [],
   "metadata": {
    "collapsed": false,
    "pycharm": {
     "is_executing": true
    }
   }
  },
  {
   "cell_type": "code",
   "execution_count": 44,
   "outputs": [],
   "source": [],
   "metadata": {
    "collapsed": false
   }
  }
 ],
 "metadata": {
  "kernelspec": {
   "display_name": "Python 3",
   "language": "python",
   "name": "python3"
  },
  "language_info": {
   "codemirror_mode": {
    "name": "ipython",
    "version": 2
   },
   "file_extension": ".py",
   "mimetype": "text/x-python",
   "name": "python",
   "nbconvert_exporter": "python",
   "pygments_lexer": "ipython2",
   "version": "2.7.6"
  }
 },
 "nbformat": 4,
 "nbformat_minor": 0
}
