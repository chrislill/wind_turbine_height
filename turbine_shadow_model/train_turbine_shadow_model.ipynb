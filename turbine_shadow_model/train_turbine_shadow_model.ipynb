{
 "cells": [
  {
   "cell_type": "code",
   "execution_count": null,
   "metadata": {
    "collapsed": true
   },
   "outputs": [],
   "source": [
    "%%time\n",
    "name = \"v007_16_tiles\"\n",
    "code_path = \"%USERPROFILE%/Code/yolov7\"\n",
    "data_path = f\"~/Code/wind_turbine_height/data/experiments/{name}\"\n",
    "%cd $data_path\n",
    "\n",
    "!wandb disabled\n",
    "!python $code_path/train.py --img-size 640 --cfg $code_path/cfg/training/yolov7.yaml --hyp $code_path/data/hyp.scratch.custom.yaml --batch 2 --epochs 100 --data data.yaml --weights $code_path/weights/yolov7_training.pt --name $name"
   ]
  },
  {
   "cell_type": "code",
   "execution_count": null,
   "outputs": [],
   "source": [],
   "metadata": {
    "collapsed": false
   }
  },
  {
   "cell_type": "code",
   "execution_count": null,
   "outputs": [],
   "source": [],
   "metadata": {
    "collapsed": false
   }
  }
 ],
 "metadata": {
  "kernelspec": {
   "display_name": "Python 3",
   "language": "python",
   "name": "python3"
  },
  "language_info": {
   "codemirror_mode": {
    "name": "ipython",
    "version": 2
   },
   "file_extension": ".py",
   "mimetype": "text/x-python",
   "name": "python",
   "nbconvert_exporter": "python",
   "pygments_lexer": "ipython2",
   "version": "2.7.6"
  }
 },
 "nbformat": 4,
 "nbformat_minor": 0
}
