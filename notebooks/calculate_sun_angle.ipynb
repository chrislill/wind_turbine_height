{
 "cells": [
  {
   "cell_type": "markdown",
   "metadata": {},
   "source": [
    "# Proof of concept: Calculate sun angle\n",
    "Shadow length and time of day have been collected from http://centrodedescargas.cnig.es. Check\n",
    "whether these can calculate a hub height that approximately matches the identified hub heights."
   ]
  },
  {
   "cell_type": "code",
   "execution_count": null,
   "metadata": {},
   "outputs": [],
   "source": [
    "import os\n",
    "import math\n",
    "\n",
    "import dotenv\n",
    "import ephem\n",
    "import numpy as np\n",
    "import pandas as pd\n",
    "\n",
    "dotenv.load_dotenv('../.env')\n",
    "dotenv.load_dotenv('../.env.secret')\n",
    "\n",
    "sites = pd.read_csv('../data/poc_measurements.csv')"
   ]
  },
  {
   "cell_type": "code",
   "execution_count": null,
   "outputs": [],
   "source": [
    "sites = sites.assign(\n",
    "    date_string = lambda x: x.date + ' ' + x.hora + os.environ.get('utc_offset'),\n",
    "    datetime_local = lambda x: pd.to_datetime(x.date_string, dayfirst=True),\n",
    "    datetime_utc = lambda x: x.datetime_local.dt.tz_convert(\"UTC\")\n",
    ")\n",
    "sites"
   ],
   "metadata": {
    "collapsed": false
   }
  },
  {
   "cell_type": "code",
   "execution_count": null,
   "outputs": [],
   "source": [
    "site = sites.loc[0]\n",
    "\n",
    "# https://stackoverflow.com/questions/18157266/how-to-calculate-the-angle-of-the-sun-above-the-horizon-using-pyephem\n",
    "observer = ephem.Observer()\n",
    "observer.date = site.datetime_utc\n",
    "observer.long = site.longitude\n",
    "observer.lat = site.latitude\n",
    "sun = ephem.Sun(observer)\n",
    "sun.compute(observer)\n",
    "print('Sun angle radians', float(sun.alt))\n",
    "print('Sun angle degrees', sun.alt * 180 / math.pi)"
   ],
   "metadata": {
    "collapsed": false
   }
  },
  {
   "cell_type": "code",
   "execution_count": null,
   "outputs": [],
   "source": [
    "observer = ephem.Observer()\n",
    "for i, site in sites.iloc[:4].iterrows():\n",
    "    observer.date = site.datetime_utc\n",
    "    observer.long = site.longitude\n",
    "    observer.lat = site.latitude\n",
    "    sun = ephem.Sun(observer)\n",
    "    sun.compute(observer)\n",
    "    sites.loc[i, \"sun_radians\"] = sun.alt"
   ],
   "metadata": {
    "collapsed": false
   }
  },
  {
   "cell_type": "code",
   "execution_count": null,
   "outputs": [],
   "source": [
    "sites = sites.assign(\n",
    "    sun_degrees = lambda x: (x.sun_radians * 180 / math.pi).round(1),\n",
    "    estimated_hub_height=lambda x: np.tan(x.sun_radians) * x.shadow_length\n",
    ")\n",
    "sites"
   ],
   "metadata": {
    "collapsed": false
   }
  },
  {
   "cell_type": "code",
   "execution_count": null,
   "outputs": [],
   "source": [],
   "metadata": {
    "collapsed": false
   }
  }
 ],
 "metadata": {
  "kernelspec": {
   "display_name": "Python 3 (ipykernel)",
   "language": "python",
   "name": "python3"
  },
  "language_info": {
   "codemirror_mode": {
    "name": "ipython",
    "version": 3
   },
   "file_extension": ".py",
   "mimetype": "text/x-python",
   "name": "python",
   "nbconvert_exporter": "python",
   "pygments_lexer": "ipython3",
   "version": "3.10.8"
  }
 },
 "nbformat": 4,
 "nbformat_minor": 1
}
