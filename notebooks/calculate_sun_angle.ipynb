{
 "cells": [
  {
   "cell_type": "markdown",
   "metadata": {},
   "source": [
    "# Proof of concept: Calculate sun angle\n",
    "Shadow length and time of day have been collected from http://centrodedescargas.cnig.es. Check\n",
    "whether these can calculate a hub height that approximately matches the identified hub heights."
   ]
  },
  {
   "cell_type": "code",
   "execution_count": null,
   "metadata": {},
   "outputs": [],
   "source": [
    "import os\n",
    "\n",
    "import dotenv\n",
    "import numpy as np\n",
    "import pandas as pd\n",
    "from skyfield import api\n",
    "\n",
    "dotenv.load_dotenv('../.env')\n",
    "dotenv.load_dotenv('../.env.secret')\n",
    "\n",
    "sites = pd.read_csv('../data/poc_measurements.csv')"
   ]
  },
  {
   "cell_type": "code",
   "execution_count": null,
   "outputs": [],
   "source": [
    "sites = sites.assign(\n",
    "    date_string = lambda x: x.date + ' ' + x.hora + os.environ.get('utc_offset'),\n",
    "    datetime_local = lambda x: pd.to_datetime(x.date_string, dayfirst=True),\n",
    "    datetime_utc = lambda x: x.datetime_local.dt.tz_convert(\"UTC\")\n",
    ")\n",
    "sites"
   ],
   "metadata": {
    "collapsed": false
   }
  },
  {
   "cell_type": "code",
   "execution_count": null,
   "outputs": [],
   "source": [
    "ephemeris = api.load('de421.bsp')\n",
    "earth, sun = ephemeris['earth'], ephemeris['sun']\n",
    "for i, site in sites.iloc[:4].iterrows():\n",
    "    observer = earth + api.wgs84.latlon(latitude_degrees=site.latitude, longitude_degrees=site.longitude)\n",
    "    time = api.load.timescale().from_datetime(site.datetime_utc)\n",
    "    altitude, _, _  = observer.at(time).observe(sun).apparent().altaz()\n",
    "    sites.loc[i, [\"altitude_degrees\", \"altitude_radians\"]]= altitude.degrees, altitude.radians\n",
    "sites = sites.assign(\n",
    "    estimated_hub_height=lambda x: np.tan(x.altitude_radians) * x.shadow_length\n",
    ")\n",
    "sites[[\"site\", \"latitude\", \"longitude\", \"hub_height\", \"shadow_length\", \"altitude_degrees\",\n",
    "       \"estimated_hub_height\"]].round(2)"
   ],
   "metadata": {
    "collapsed": false
   }
  },
  {
   "cell_type": "code",
   "execution_count": null,
   "outputs": [],
   "source": [],
   "metadata": {
    "collapsed": false
   }
  },
  {
   "cell_type": "code",
   "execution_count": null,
   "outputs": [],
   "source": [],
   "metadata": {
    "collapsed": false
   }
  },
  {
   "cell_type": "code",
   "execution_count": null,
   "outputs": [],
   "source": [],
   "metadata": {
    "collapsed": false
   }
  }
 ],
 "metadata": {
  "kernelspec": {
   "display_name": "Python 3 (ipykernel)",
   "language": "python",
   "name": "python3"
  },
  "language_info": {
   "codemirror_mode": {
    "name": "ipython",
    "version": 3
   },
   "file_extension": ".py",
   "mimetype": "text/x-python",
   "name": "python",
   "nbconvert_exporter": "python",
   "pygments_lexer": "ipython3",
   "version": "3.10.8"
  }
 },
 "nbformat": 4,
 "nbformat_minor": 1
}
