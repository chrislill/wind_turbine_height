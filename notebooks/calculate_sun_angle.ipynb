{
 "cells": [
  {
   "cell_type": "markdown",
   "metadata": {},
   "source": [
    "# Proof of concept: Calculate sun angle\n",
    "Shadow length and time of day have been collected from http://centrodedescargas.cnig.es. Check\n",
    "whether these can calculate a hub height that approximately matches the identified hub heights.\n",
    "\n",
    "__Conclusions:__\n",
    "1. The aerial photos have a timestamp in UTC\n",
    "2. The quality of initial spanish metadata is awful (3 out of 7 are a match)\n",
    "3. 5m is a reasonable accuracy goal (weak evidence, based on three matches)"
   ]
  },
  {
   "cell_type": "code",
   "execution_count": null,
   "metadata": {},
   "outputs": [],
   "source": [
    "import os\n",
    "from datetime import datetime\n",
    "\n",
    "import dotenv\n",
    "import numpy as np\n",
    "import pandas as pd\n",
    "from skyfield import almanac, api\n",
    "\n",
    "dotenv.load_dotenv('../.env')\n",
    "dotenv.load_dotenv('../.env.secret')\n",
    "\n",
    "sites = pd.read_csv('../data/poc_measurements.csv')"
   ]
  },
  {
   "cell_type": "code",
   "execution_count": null,
   "outputs": [],
   "source": [
    "sites = sites.assign(\n",
    "    date_string = lambda x: x.date + ' ' + x.hora + os.environ.get('utc_offset'),\n",
    "    datetime_utc = lambda x: pd.to_datetime(x.date_string, dayfirst=True, utc=True)\n",
    ")\n",
    "sites"
   ],
   "metadata": {
    "collapsed": false
   }
  },
  {
   "cell_type": "code",
   "execution_count": null,
   "outputs": [],
   "source": [
    "ephemeris = api.load('de421.bsp')\n",
    "earth, sun = ephemeris['earth'], ephemeris['sun']\n",
    "test_sites = sites[~sites.hora.isna()].drop_duplicates(subset='site', keep='last')\n",
    "for i, site in test_sites.iterrows():\n",
    "    observer = earth + api.wgs84.latlon(latitude_degrees=site.latitude, longitude_degrees=site.longitude)\n",
    "    time = api.load.timescale().from_datetime(site.datetime_utc)\n",
    "    altitude, _, _  = observer.at(time).observe(sun).apparent().altaz()\n",
    "    test_sites.loc[i, ['altitude_degrees', 'altitude_radians']]= altitude.degrees, altitude.radians\n",
    "test_sites = test_sites.assign(\n",
    "    estimated_hub_height=lambda x: np.tan(x.altitude_radians) * x.shadow_length\n",
    ")\n",
    "test_sites[[\n",
    "    'site', 'latitude', 'longitude', 'hub_height', 'shadow_length', 'altitude_degrees', 'estimated_hub_height'\n",
    "]].round(2)"
   ],
   "metadata": {
    "collapsed": false
   }
  },
  {
   "cell_type": "code",
   "execution_count": null,
   "outputs": [],
   "source": [
    "# When is the solar noon in Adrano?\n",
    "turbine = api.wgs84.latlon(site.latitude, site.longitude)\n",
    "t1 = api.load.timescale().utc(2019, 7, 14)\n",
    "t2 = api.load.timescale().utc(2019, 7, 15)\n",
    "f = almanac.meridian_transits(ephemeris, sun, turbine)\n",
    "times, events = almanac.find_discrete(t1, t2, f)\n",
    "times[1].tt_calendar()"
   ],
   "metadata": {
    "collapsed": false
   }
  },
  {
   "cell_type": "code",
   "execution_count": null,
   "outputs": [],
   "source": [
    "# How does the altitude angle for a day in June in Adrano?\n",
    "angle_list = []\n",
    "observer = earth + api.wgs84.latlon(latitude_degrees=site.latitude, longitude_degrees=site.longitude)\n",
    "site = sites.iloc[0]\n",
    "for hour in range(24):\n",
    "    time = api.load.timescale().from_datetime(site.datetime_utc.replace(hour=hour))\n",
    "    altitude, _, _  = observer.at(time).observe(sun).apparent().altaz()\n",
    "    angle_list.append({'hour': hour, 'degrees': altitude.degrees, 'radians': altitude.radians})\n",
    "pd.DataFrame(angle_list)"
   ],
   "metadata": {
    "collapsed": false
   }
  },
  {
   "cell_type": "code",
   "execution_count": null,
   "outputs": [],
   "source": [
    "# Which utc_offset minimises the errors in the estimated hub height?\n",
    "result_list = []\n",
    "for _, site in test_sites.iterrows():\n",
    "    observer = earth + api.wgs84.latlon(latitude_degrees=site.latitude, longitude_degrees=site.longitude)\n",
    "    site_result_dict = {}\n",
    "    for utc_offset in range(3):\n",
    "        date_string = datetime.strptime(\n",
    "            f'{site.date} {site.hora} +{utc_offset:02}00', '%d/%m/%Y %H:%M:%S %z')\n",
    "        time = api.load.timescale().from_datetime(date_string)\n",
    "        altitude, _, _  = observer.at(time).observe(sun).apparent().altaz()\n",
    "        estimated_hub_height = round(np.tan(altitude.radians) * site.shadow_length, 1)\n",
    "        site_result_dict[f'estimate_{utc_offset}'] = estimated_hub_height\n",
    "\n",
    "    result_list.append(site_result_dict)\n",
    "\n",
    "results = pd.concat([\n",
    "    test_sites[['site', 'hub_height', 'shadow_length']],\n",
    "    pd.DataFrame(result_list, index = test_sites.index)]\n",
    "    , axis=1\n",
    ")\n",
    "results['error_0'] = results.estimate_0 - results.hub_height\n",
    "results"
   ],
   "metadata": {
    "collapsed": false
   }
  },
  {
   "cell_type": "code",
   "execution_count": null,
   "outputs": [],
   "source": [
    "summary_list = []\n",
    "for utc_offset in range(3):\n",
    "    errors = results[f'estimate_{utc_offset}'] - results.hub_height\n",
    "    summary_list.append({\n",
    "        'utc_offset': utc_offset,\n",
    "        'within_5m': errors.between(-5, 5).sum(),\n",
    "        'within_10m': errors.between(-10, 10).sum(),\n",
    "        'within_20m': errors.between(-20, 20).sum()\n",
    "    })\n",
    "pd.DataFrame(summary_list)"
   ],
   "metadata": {
    "collapsed": false
   }
  },
  {
   "cell_type": "code",
   "execution_count": null,
   "outputs": [],
   "source": [],
   "metadata": {
    "collapsed": false
   }
  }
 ],
 "metadata": {
  "kernelspec": {
   "display_name": "Python 3 (ipykernel)",
   "language": "python",
   "name": "python3"
  },
  "language_info": {
   "codemirror_mode": {
    "name": "ipython",
    "version": 3
   },
   "file_extension": ".py",
   "mimetype": "text/x-python",
   "name": "python",
   "nbconvert_exporter": "python",
   "pygments_lexer": "ipython3",
   "version": "3.10.8"
  }
 },
 "nbformat": 4,
 "nbformat_minor": 1
}
