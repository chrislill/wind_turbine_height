{
 "cells": [
  {
   "cell_type": "markdown",
   "metadata": {},
   "source": [
    "# Getting started with the Data API"
   ]
  },
  {
   "cell_type": "markdown",
   "metadata": {},
   "source": [
    "### **Let's search & download some imagery of farmland near Stockton, CA. Here are the steps we'll follow:**\n",
    "\n",
    "1. Define an Area of Interest (AOI)\n",
    "2. Save our AOI's coordinates to GeoJSON format\n",
    "3. Create a few search filters\n",
    "4. Search for imagery using those filters\n",
    "5. Activate an image for downloading\n",
    "6. Download an image"
   ]
  },
  {
   "cell_type": "markdown",
   "metadata": {},
   "source": [
    "### Requirements\n",
    "- Python 2.7 or 3+\n",
    "- requests\n",
    "- A [Planet API Key](https://www.planet.com/account/#/)"
   ]
  },
  {
   "cell_type": "markdown",
   "metadata": {},
   "source": [
    "## Set Up API Key"
   ]
  },
  {
   "cell_type": "code",
   "execution_count": null,
   "metadata": {
    "pycharm": {
     "name": "#%%\n"
    }
   },
   "outputs": [],
   "source": [
    "import io\n",
    "import os\n",
    "import json\n",
    "\n",
    "import dotenv\n",
    "import pandas as pd\n",
    "import requests\n",
    "from requests.auth import HTTPBasicAuth\n",
    "from PIL import Image\n",
    "\n",
    "dotenv.load_dotenv('..\\.env')\n",
    "dotenv.load_dotenv('..\\.env.secret');"
   ]
  },
  {
   "cell_type": "markdown",
   "metadata": {},
   "source": [
    "## Define an Area of Interest"
   ],
   "execution_count": 2
  },
  {
   "cell_type": "markdown",
   "metadata": {},
   "source": [
    "An **Area of Interest** (or *AOI*) is how we define the geographic \"window\" out of which we want to get data.\n",
    "\n",
    "For the Data API, this could be a simple bounding box with four corners, or a more complex shape, as long as the definition is in [GeoJSON](http://geojson.org/) format. \n",
    "\n",
    "For this example, let's just use a simple box. To make it easy, I'll use [geojson.io](http://geojson.io/) to quickly draw a shape & generate GeoJSON output for our box:"
   ]
  },
  {
   "cell_type": "markdown",
   "metadata": {},
   "source": [
    "![geojsonio.png](images/geojsonio.png)"
   ]
  },
  {
   "cell_type": "markdown",
   "metadata": {},
   "source": [
    "We only need the \"geometry\" object for our Data API request:"
   ]
  },
  {
   "cell_type": "code",
   "execution_count": null,
   "metadata": {},
   "outputs": [],
   "source": [
    "sites = pd.read_csv('../data/gb_sites.csv')\n",
    "sites.head()"
   ]
  },
  {
   "cell_type": "markdown",
   "metadata": {},
   "source": [
    "## Create Filters"
   ]
  },
  {
   "cell_type": "markdown",
   "metadata": {},
   "source": [
    "Now let's set up some **filters** to further constrain our Data API search:"
   ]
  },
  {
   "cell_type": "code",
   "execution_count": null,
   "metadata": {},
   "outputs": [],
   "source": [
    "site = sites.iloc[0]\n",
    "geojson_geometry = {\n",
    "  \"type\": \"Polygon\",\n",
    "  \"coordinates\": [\n",
    "    [ \n",
    "      [site.longitude - 0.02, site.latitude - 0.02],\n",
    "      [site.longitude + 0.02, site.latitude - 0.02],\n",
    "      [site.longitude + 0.02, site.latitude + 0.02],\n",
    "      [site.longitude - 0.02, site.latitude + 0.02],\n",
    "      [site.longitude - 0.02, site.latitude - 0.02]\n",
    "#       [-121.59290313720705, 37.93444993515032],\n",
    "#       [-121.27017974853516, 37.93444993515032],\n",
    "#       [-121.27017974853516, 38.065932950547484],\n",
    "#       [-121.59290313720705, 38.065932950547484],\n",
    "#       [-121.59290313720705, 37.93444993515032]\n",
    "    ]\n",
    "  ]\n",
    "}\n",
    "\n",
    "# get images that overlap with our AOI \n",
    "geometry_filter = {\n",
    "  \"type\": \"GeometryFilter\",\n",
    "  \"field_name\": \"geometry\",\n",
    "  \"config\": geojson_geometry\n",
    "}\n",
    "\n",
    "# get images acquired within a date range\n",
    "date_range_filter = {\n",
    "  \"type\": \"DateRangeFilter\",\n",
    "  \"field_name\": \"acquired\",\n",
    "  \"config\": {\n",
    "#     \"gte\": \"2016-08-31T00:00:00.000Z\",\n",
    "#     \"lte\": \"2016-09-01T00:00:00.000Z\"\n",
    "    \"gte\": \"2020-01-01T00:00:00.000Z\",\n",
    "    \"lte\": \"2020-12-30T00:00:00.000Z\"\n",
    "  }\n",
    "}\n",
    "\n",
    "# only get images which have <50% cloud coverage\n",
    "cloud_cover_filter = {\n",
    "  \"type\": \"RangeFilter\",\n",
    "  \"field_name\": \"cloud_cover\",\n",
    "  \"config\": {\n",
    "    \"lte\": 0.1\n",
    "  }\n",
    "}\n",
    "\n",
    "sun_filter = {\n",
    "  \"type\": \"RangeFilter\",\n",
    "  \"field_name\": \"sun_elevation\",\n",
    "  \"config\": {\n",
    "    \"gte\": 40\n",
    "  }\n",
    "}\n",
    "\n",
    "# combine our geo, date, cloud filters\n",
    "combined_filter = {\n",
    "  \"type\": \"AndFilter\",\n",
    "  \"config\": [geometry_filter, date_range_filter, cloud_cover_filter, sun_filter]\n",
    "}"
   ]
  },
  {
   "cell_type": "code",
   "execution_count": 30,
   "outputs": [
    {
     "name": "stdout",
     "output_type": "stream",
     "text": [
      "58.4382895N, 3.2047677W\n"
     ]
    }
   ],
   "source": [
    "print(f\"{site.latitude}N, {-site.longitude}W\")"
   ],
   "metadata": {
    "collapsed": false,
    "pycharm": {
     "name": "#%%\n"
    }
   }
  },
  {
   "cell_type": "markdown",
   "metadata": {},
   "source": [
    "## Searching: Items and Assets\n",
    "Planet's products are categorized as **items** and **assets**: an item is a single picture taken by a satellite at a certain time. Items have multiple asset types including the image in different formats, along with supporting metadata files.\n",
    "\n",
    "For this demonstration, let's get a satellite image that is best suited for analytic applications; i.e., a 4-band image with spectral data for Red, Green, Blue and Near-infrared values. To get the image we want, we will specify an item type of `PSScene`, and asset type `ps4b_analytic` (to get a PSScene4Band Analytic asset).\n",
    "\n",
    "You can learn more about item & asset types in Planet's Data API [here](https://developers.planet.com/docs/apis/data/items-assets/).\n",
    "\n",
    "Now let's search for all the items that match our filters:"
   ]
  },
  {
   "cell_type": "code",
   "execution_count": null,
   "metadata": {},
   "outputs": [],
   "source": [
    "item_type = \"PSScene\"\n",
    "# item_type = \"SkySatScene\"\n",
    "\n",
    "# API request object\n",
    "search_request = {\n",
    "  \"item_types\": [item_type], \n",
    "  \"filter\": combined_filter\n",
    "}\n",
    "\n",
    "# fire off the POST request\n",
    "search_result = \\\n",
    "  requests.post(\n",
    "    'https://api.planet.com/data/v1/quick-search',\n",
    "    auth=HTTPBasicAuth(os.environ.get('planet_api_key'), ''),\n",
    "    json=search_request)\n",
    "\n",
    "geojson = search_result.json()\n",
    "\n",
    "# let's look at the first result\n",
    "# print(list(geojson.items())[1][1][0])\n",
    "print(len(geojson[\"features\"]), 'scenes')"
   ]
  },
  {
   "cell_type": "code",
   "execution_count": null,
   "metadata": {
    "scrolled": true
   },
   "outputs": [],
   "source": [
    "# print(json.dumps(geojson, indent=4))"
   ]
  },
  {
   "cell_type": "markdown",
   "metadata": {},
   "source": [
    "Our search returns metadata for all of the images within our AOI that match our date range and cloud coverage filters. It looks like there are multiple images here; let's extract a list of just those image IDs:"
   ]
  },
  {
   "cell_type": "code",
   "execution_count": null,
   "metadata": {},
   "outputs": [],
   "source": [
    "# extract image IDs only\n",
    "# print(\"\\n\".join(\n",
    "pd.Series([feature[\"properties\"]['sun_elevation'] for feature in geojson['features']]).hist()\n",
    "# print(image_ids)"
   ]
  },
  {
   "cell_type": "code",
   "execution_count": null,
   "metadata": {
    "scrolled": false
   },
   "outputs": [],
   "source": [
    "# extract image IDs only\n",
    "image_ids = [feature['id'] for feature in geojson['features']]\n",
    "print(image_ids)"
   ]
  },
  {
   "cell_type": "markdown",
   "metadata": {},
   "source": [
    "Since we just want a single image, and this is only a demonstration, for our purposes here we can arbitrarily select the first image in that list. Let's do that, and get the `asset` list available for that image:"
   ]
  },
  {
   "cell_type": "code",
   "execution_count": null,
   "metadata": {},
   "outputs": [],
   "source": [
    "# For demo purposes, just grab the first image ID\n",
    "id0 = image_ids[0]\n",
    "id0_url = 'https://api.planet.com/data/v1/item-types/{}/items/{}/assets'.format(item_type, id0)\n",
    "\n",
    "# Returns JSON metadata for assets in this ID. Learn more: planet.com/docs/reference/data-api/items-assets/#asset\n",
    "result = \\\n",
    "  requests.get(\n",
    "    id0_url,\n",
    "    auth=HTTPBasicAuth(os.environ.get('planet_api_key'), '')\n",
    "  )\n",
    "\n",
    "# List of asset types available for this particular satellite image\n",
    "print(result.json().keys())\n"
   ]
  },
  {
   "cell_type": "markdown",
   "metadata": {},
   "source": [
    " ## Activation and Downloading\n",
    " \n",
    "The Data API does not pre-generate assets, so they are not always immediately availiable to download. In order to download an asset, we first have to **activate** it.\n",
    "\n",
    "Remember, earlier we decided we wanted a color-corrected image best suited for *analytic* applications. We can check the status of the PSScene 4-Band analytic asset we want to download like so:\n",
    " "
   ]
  },
  {
   "cell_type": "code",
   "execution_count": null,
   "metadata": {
    "scrolled": true
   },
   "outputs": [],
   "source": [
    "# This is \"inactive\" if the \"ortho_analytic_4b\" asset has not yet been activated; otherwise 'active'\n",
    "print(result.json()['ortho_analytic_4b']['status'])"
   ]
  },
  {
   "cell_type": "markdown",
   "metadata": {},
   "source": [
    "Let's now go ahead and **activate** that asset for download:"
   ]
  },
  {
   "cell_type": "code",
   "execution_count": null,
   "metadata": {},
   "outputs": [],
   "source": [
    "# Parse out useful links\n",
    "links = result.json()[u\"ortho_analytic_4b\"][\"_links\"]\n",
    "self_link = links[\"_self\"]\n",
    "activation_link = links[\"activate\"]\n",
    "\n",
    "# Request activation of the 'ortho_analytic_4b' asset:\n",
    "activate_result = \\\n",
    "  requests.get(\n",
    "    activation_link,\n",
    "    auth=HTTPBasicAuth(os.environ.get('planet_api_key'), '')\n",
    "  )"
   ]
  },
  {
   "cell_type": "markdown",
   "metadata": {},
   "source": [
    "At this point, we wait for the activation status for the asset we are requesting to change from `inactive` to `active`. We can monitor this by polling the \"status\" of the asset:"
   ]
  },
  {
   "cell_type": "code",
   "execution_count": null,
   "metadata": {},
   "outputs": [],
   "source": [
    "activation_status_result = \\\n",
    "  requests.get(\n",
    "    self_link,\n",
    "    auth=HTTPBasicAuth(os.environ.get('planet_api_key'), '')\n",
    "  )\n",
    "    \n",
    "print(activation_status_result.json()[\"status\"])"
   ]
  },
  {
   "cell_type": "markdown",
   "metadata": {},
   "source": [
    "Once the asset has finished activating (status is \"active\"), we can download it. \n",
    "\n",
    "*Note: the download link on an active asset is temporary*"
   ]
  },
  {
   "cell_type": "code",
   "execution_count": null,
   "metadata": {},
   "outputs": [],
   "source": [
    "# Image can be downloaded by making a GET with your Planet API key, from here:\n",
    "download_link = activation_status_result.json()[\"location\"]\n",
    "print(download_link)"
   ]
  },
  {
   "cell_type": "code",
   "execution_count": null,
   "metadata": {},
   "outputs": [],
   "source": [
    "image = requests.get(\n",
    "    download_link,\n",
    "    auth=HTTPBasicAuth(os.environ.get('planet_api_key'), '')\n",
    "  )"
   ]
  },
  {
   "cell_type": "code",
   "execution_count": null,
   "metadata": {},
   "outputs": [],
   "source": [
    "i = Image.open(io.BytesIO(image.content))"
   ]
  },
  {
   "cell_type": "code",
   "execution_count": null,
   "outputs": [],
   "source": [
    "image"
   ],
   "metadata": {
    "collapsed": false,
    "pycharm": {
     "name": "#%%\n"
    }
   }
  },
  {
   "cell_type": "code",
   "execution_count": null,
   "outputs": [],
   "source": [],
   "metadata": {
    "collapsed": false,
    "pycharm": {
     "name": "#%%\n"
    }
   }
  }
 ],
 "metadata": {
  "kernelspec": {
   "display_name": "Python 3 (ipykernel)",
   "language": "python",
   "name": "python3"
  },
  "language_info": {
   "codemirror_mode": {
    "name": "ipython",
    "version": 3
   },
   "file_extension": ".py",
   "mimetype": "text/x-python",
   "name": "python",
   "nbconvert_exporter": "python",
   "pygments_lexer": "ipython3",
   "version": "3.10.8"
  }
 },
 "nbformat": 4,
 "nbformat_minor": 1
}